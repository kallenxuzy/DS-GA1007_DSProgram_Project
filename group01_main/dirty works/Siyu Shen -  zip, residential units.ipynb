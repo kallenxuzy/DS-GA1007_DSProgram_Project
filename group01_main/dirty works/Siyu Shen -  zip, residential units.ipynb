{
 "cells": [
  {
   "cell_type": "code",
   "execution_count": 202,
   "metadata": {},
   "outputs": [],
   "source": [
    "import pandas as pd\n",
    "import matplotlib.pyplot as plt\n",
    "import seaborn as sns\n",
    "%matplotlib inline"
   ]
  },
  {
   "cell_type": "code",
   "execution_count": 203,
   "metadata": {},
   "outputs": [],
   "source": [
    "bronx = pd.read_csv('housing_data/bronx.csv')\n",
    "brooklyn = pd.read_csv('housing_data/brooklyn.csv')\n",
    "manhattan = pd.read_csv('housing_data/manhattan.csv')\n",
    "queens = pd.read_csv('housing_data/queens.csv')\n",
    "statenisland = pd.read_csv('housing_data/statenisland.csv')"
   ]
  },
  {
   "cell_type": "code",
   "execution_count": 204,
   "metadata": {},
   "outputs": [],
   "source": [
    "df = pd.concat([manhattan, bronx, queens,brooklyn, statenisland], ignore_index=True)\n",
    "df.dropna(how='all',axis=1,inplace=True)"
   ]
  },
  {
   "cell_type": "code",
   "execution_count": 251,
   "metadata": {},
   "outputs": [
    {
     "name": "stderr",
     "output_type": "stream",
     "text": [
      "/Users/siyushen/opt/anaconda3/lib/python3.8/site-packages/pandas/core/ops/array_ops.py:253: FutureWarning: elementwise comparison failed; returning scalar instead, but in the future will perform elementwise comparison\n",
      "  res_values = method(rvalues)\n"
     ]
    }
   ],
   "source": [
    "# clean column name\n",
    "new_columns = []\n",
    "for each in df.columns:\n",
    "    change = each.lower().strip().replace(' ', '_')\n",
    "    new_columns.append(change)\n",
    "df.columns = new_columns\n",
    "\n",
    "# clean variables\n",
    "df['sale_price'] = df['sale_price'].replace(',','').astype(float)\n",
    "df.loc[df['residential_units']=='8,764','residential_units'] = 1\n",
    "df['residential_units'] = df['residential_units'].astype('float')\n",
    "#df.loc[df['residential_units']=='8,764','residential_units'] = 1"
   ]
  },
  {
   "cell_type": "code",
   "execution_count": 252,
   "metadata": {},
   "outputs": [
    {
     "name": "stdout",
     "output_type": "stream",
     "text": [
      "<class 'pandas.core.frame.DataFrame'>\n",
      "RangeIndex: 83521 entries, 0 to 83520\n",
      "Data columns (total 20 columns):\n",
      " #   Column                          Non-Null Count  Dtype  \n",
      "---  ------                          --------------  -----  \n",
      " 0   borough                         78333 non-null  float64\n",
      " 1   neighborhood                    78333 non-null  object \n",
      " 2   building_class_category         78333 non-null  object \n",
      " 3   tax_class_at_present            78314 non-null  object \n",
      " 4   block                           78333 non-null  float64\n",
      " 5   lot                             78333 non-null  float64\n",
      " 6   building_class_at_present       78314 non-null  object \n",
      " 7   address                         78333 non-null  object \n",
      " 8   apartment_number                17737 non-null  object \n",
      " 9   zip_code                        78324 non-null  float64\n",
      " 10  residential_units               62445 non-null  float64\n",
      " 11  commercial_units                62445 non-null  float64\n",
      " 12  total_units                     62445 non-null  object \n",
      " 13  land_square_feet                62445 non-null  object \n",
      " 14  gross_square_feet               62445 non-null  object \n",
      " 15  year_built                      72561 non-null  float64\n",
      " 16  tax_class_at_time_of_sale       78333 non-null  float64\n",
      " 17  building_class_at_time_of_sale  78333 non-null  object \n",
      " 18  sale_price                      78333 non-null  float64\n",
      " 19  sale_date                       78333 non-null  object \n",
      "dtypes: float64(9), object(11)\n",
      "memory usage: 12.7+ MB\n"
     ]
    }
   ],
   "source": [
    "df.info()"
   ]
  },
  {
   "cell_type": "code",
   "execution_count": 207,
   "metadata": {
    "scrolled": true
   },
   "outputs": [
    {
     "data": {
      "text/html": [
       "<div>\n",
       "<style scoped>\n",
       "    .dataframe tbody tr th:only-of-type {\n",
       "        vertical-align: middle;\n",
       "    }\n",
       "\n",
       "    .dataframe tbody tr th {\n",
       "        vertical-align: top;\n",
       "    }\n",
       "\n",
       "    .dataframe thead th {\n",
       "        text-align: right;\n",
       "    }\n",
       "</style>\n",
       "<table border=\"1\" class=\"dataframe\">\n",
       "  <thead>\n",
       "    <tr style=\"text-align: right;\">\n",
       "      <th></th>\n",
       "      <th>borough</th>\n",
       "      <th>block</th>\n",
       "      <th>lot</th>\n",
       "      <th>zip_code</th>\n",
       "      <th>commercial_units</th>\n",
       "      <th>year_built</th>\n",
       "      <th>tax_class_at_time_of_sale</th>\n",
       "      <th>sale_price</th>\n",
       "    </tr>\n",
       "  </thead>\n",
       "  <tbody>\n",
       "    <tr>\n",
       "      <th>count</th>\n",
       "      <td>78333.000000</td>\n",
       "      <td>78333.000000</td>\n",
       "      <td>78333.000000</td>\n",
       "      <td>78324.000000</td>\n",
       "      <td>62445.000000</td>\n",
       "      <td>72561.000000</td>\n",
       "      <td>78333.000000</td>\n",
       "      <td>7.833300e+04</td>\n",
       "    </tr>\n",
       "    <tr>\n",
       "      <th>mean</th>\n",
       "      <td>2.986072</td>\n",
       "      <td>4381.655675</td>\n",
       "      <td>364.344912</td>\n",
       "      <td>10854.869082</td>\n",
       "      <td>0.399103</td>\n",
       "      <td>1950.624440</td>\n",
       "      <td>1.619981</td>\n",
       "      <td>1.491649e+06</td>\n",
       "    </tr>\n",
       "    <tr>\n",
       "      <th>std</th>\n",
       "      <td>1.282365</td>\n",
       "      <td>3658.873793</td>\n",
       "      <td>657.787828</td>\n",
       "      <td>561.667498</td>\n",
       "      <td>7.524995</td>\n",
       "      <td>34.765651</td>\n",
       "      <td>0.791168</td>\n",
       "      <td>1.371906e+07</td>\n",
       "    </tr>\n",
       "    <tr>\n",
       "      <th>min</th>\n",
       "      <td>1.000000</td>\n",
       "      <td>1.000000</td>\n",
       "      <td>1.000000</td>\n",
       "      <td>10001.000000</td>\n",
       "      <td>-16.000000</td>\n",
       "      <td>1800.000000</td>\n",
       "      <td>1.000000</td>\n",
       "      <td>0.000000e+00</td>\n",
       "    </tr>\n",
       "    <tr>\n",
       "      <th>25%</th>\n",
       "      <td>2.000000</td>\n",
       "      <td>1346.000000</td>\n",
       "      <td>22.000000</td>\n",
       "      <td>10306.000000</td>\n",
       "      <td>0.000000</td>\n",
       "      <td>1925.000000</td>\n",
       "      <td>1.000000</td>\n",
       "      <td>0.000000e+00</td>\n",
       "    </tr>\n",
       "    <tr>\n",
       "      <th>50%</th>\n",
       "      <td>3.000000</td>\n",
       "      <td>3514.000000</td>\n",
       "      <td>50.000000</td>\n",
       "      <td>11209.000000</td>\n",
       "      <td>0.000000</td>\n",
       "      <td>1945.000000</td>\n",
       "      <td>1.000000</td>\n",
       "      <td>4.780000e+05</td>\n",
       "    </tr>\n",
       "    <tr>\n",
       "      <th>75%</th>\n",
       "      <td>4.000000</td>\n",
       "      <td>6507.000000</td>\n",
       "      <td>400.000000</td>\n",
       "      <td>11357.000000</td>\n",
       "      <td>0.000000</td>\n",
       "      <td>1970.000000</td>\n",
       "      <td>2.000000</td>\n",
       "      <td>8.900000e+05</td>\n",
       "    </tr>\n",
       "    <tr>\n",
       "      <th>max</th>\n",
       "      <td>5.000000</td>\n",
       "      <td>16350.000000</td>\n",
       "      <td>9116.000000</td>\n",
       "      <td>11697.000000</td>\n",
       "      <td>842.000000</td>\n",
       "      <td>2019.000000</td>\n",
       "      <td>4.000000</td>\n",
       "      <td>2.155000e+09</td>\n",
       "    </tr>\n",
       "  </tbody>\n",
       "</table>\n",
       "</div>"
      ],
      "text/plain": [
       "            borough         block           lot      zip_code  \\\n",
       "count  78333.000000  78333.000000  78333.000000  78324.000000   \n",
       "mean       2.986072   4381.655675    364.344912  10854.869082   \n",
       "std        1.282365   3658.873793    657.787828    561.667498   \n",
       "min        1.000000      1.000000      1.000000  10001.000000   \n",
       "25%        2.000000   1346.000000     22.000000  10306.000000   \n",
       "50%        3.000000   3514.000000     50.000000  11209.000000   \n",
       "75%        4.000000   6507.000000    400.000000  11357.000000   \n",
       "max        5.000000  16350.000000   9116.000000  11697.000000   \n",
       "\n",
       "       commercial_units    year_built  tax_class_at_time_of_sale    sale_price  \n",
       "count      62445.000000  72561.000000               78333.000000  7.833300e+04  \n",
       "mean           0.399103   1950.624440                   1.619981  1.491649e+06  \n",
       "std            7.524995     34.765651                   0.791168  1.371906e+07  \n",
       "min          -16.000000   1800.000000                   1.000000  0.000000e+00  \n",
       "25%            0.000000   1925.000000                   1.000000  0.000000e+00  \n",
       "50%            0.000000   1945.000000                   1.000000  4.780000e+05  \n",
       "75%            0.000000   1970.000000                   2.000000  8.900000e+05  \n",
       "max          842.000000   2019.000000                   4.000000  2.155000e+09  "
      ]
     },
     "execution_count": 207,
     "metadata": {},
     "output_type": "execute_result"
    }
   ],
   "source": [
    "df.describe()"
   ]
  },
  {
   "cell_type": "markdown",
   "metadata": {},
   "source": [
    "### address"
   ]
  },
  {
   "cell_type": "code",
   "execution_count": 208,
   "metadata": {},
   "outputs": [
    {
     "data": {
      "text/plain": [
       "False    78333\n",
       "True      5188\n",
       "Name: address, dtype: int64"
      ]
     },
     "execution_count": 208,
     "metadata": {},
     "output_type": "execute_result"
    }
   ],
   "source": [
    "df['address'].isnull().value_counts()"
   ]
  },
  {
   "cell_type": "code",
   "execution_count": 233,
   "metadata": {},
   "outputs": [
    {
     "data": {
      "text/plain": [
       "75740"
      ]
     },
     "execution_count": 233,
     "metadata": {},
     "output_type": "execute_result"
    }
   ],
   "source": [
    "df['address'].nunique()"
   ]
  },
  {
   "cell_type": "code",
   "execution_count": 242,
   "metadata": {
    "scrolled": true
   },
   "outputs": [
    {
     "data": {
      "text/plain": [
       "N/A BEACH 28 STREET                   13\n",
       "75 GREENE AVENUE, STORA               12\n",
       "N/A EUGENE SREET                      11\n",
       "21-30 44TH DRIVE, PKG 1                9\n",
       "N/A MAPLE COURT                        8\n",
       "551 MAIN STREET, RES                   8\n",
       "N/A SEAVER AVENUE                      8\n",
       "55 AUSTIN PLACE                        8\n",
       "N/A HYLAN BOULEVARD                    7\n",
       "N/A HOME PLACE                         7\n",
       "N/A GUINZBURG ROAD                     7\n",
       "118-15 204TH STREET                    6\n",
       "34-25 109TH STREET                     6\n",
       "N/A MEEKER AVENUE                      6\n",
       "1335 AVENUE OF THE AMERICAS, TIMES     6\n",
       "33 WEST 37TH STREET, FLOOR             6\n",
       "N/A 150TH STREET                       6\n",
       "322 CLIFTON PLACE                      6\n",
       "N/A NORTON AVENUE                      5\n",
       "N/A SOUTH ROAD                         5\n",
       "215 EAST 96TH STREET, CONDP            5\n",
       "523 MACON STREET                       5\n",
       "N/A BEACH 43 STREET                    5\n",
       "1305 EAST NEW YORK AVENUE              5\n",
       "N/A VETERANS ROAD WEST                 5\n",
       "N/A BUEL AVENUE                        5\n",
       "350 NEW YORK AVENUE                    5\n",
       "220-01 131ST AVENUE                    5\n",
       "N/A LAFAYETTE AVENUE                   5\n",
       "N/A HICKSVILLE ROAD                    5\n",
       "Name: address, dtype: int64"
      ]
     },
     "execution_count": 242,
     "metadata": {},
     "output_type": "execute_result"
    }
   ],
   "source": [
    "df['address'].dropna().value_counts().head(30)"
   ]
  },
  {
   "cell_type": "code",
   "execution_count": 236,
   "metadata": {},
   "outputs": [
    {
     "data": {
      "text/plain": [
       "31617    4.0\n",
       "31618    4.0\n",
       "31619    4.0\n",
       "31620    4.0\n",
       "31621    4.0\n",
       "31622    4.0\n",
       "31623    4.0\n",
       "31624    4.0\n",
       "31625    4.0\n",
       "31626    4.0\n",
       "31628    4.0\n",
       "31629    4.0\n",
       "31630    4.0\n",
       "Name: borough, dtype: float64"
      ]
     },
     "execution_count": 236,
     "metadata": {},
     "output_type": "execute_result"
    }
   ],
   "source": [
    "df[df['address'] == 'N/A BEACH 28 STREET']['borough'] #Queens"
   ]
  },
  {
   "cell_type": "code",
   "execution_count": 241,
   "metadata": {},
   "outputs": [
    {
     "data": {
      "text/plain": [
       "<bound method Series.unique of 65224    3.0\n",
       "65225    3.0\n",
       "65226    3.0\n",
       "65227    3.0\n",
       "65228    3.0\n",
       "65229    3.0\n",
       "65230    3.0\n",
       "65231    3.0\n",
       "65232    3.0\n",
       "65233    3.0\n",
       "65234    3.0\n",
       "65235    3.0\n",
       "Name: borough, dtype: float64>"
      ]
     },
     "execution_count": 241,
     "metadata": {},
     "output_type": "execute_result"
    }
   ],
   "source": [
    "df[df['address'] == '75 GREENE AVENUE, STORA']['borough'] #Brooklyn"
   ]
  },
  {
   "cell_type": "code",
   "execution_count": 240,
   "metadata": {},
   "outputs": [
    {
     "data": {
      "text/plain": [
       "80418    5.0\n",
       "80419    5.0\n",
       "80420    5.0\n",
       "80421    5.0\n",
       "80422    5.0\n",
       "80423    5.0\n",
       "80424    5.0\n",
       "80425    5.0\n",
       "80426    5.0\n",
       "80427    5.0\n",
       "80428    5.0\n",
       "Name: borough, dtype: float64"
      ]
     },
     "execution_count": 240,
     "metadata": {},
     "output_type": "execute_result"
    }
   ],
   "source": [
    "df[df['address'] == 'N/A EUGENE SREET']['borough'] #Statenisland"
   ]
  },
  {
   "cell_type": "markdown",
   "metadata": {},
   "source": [
    "### apartment number"
   ]
  },
  {
   "cell_type": "code",
   "execution_count": 211,
   "metadata": {},
   "outputs": [
    {
     "data": {
      "text/plain": [
       "True     65784\n",
       "False    17737\n",
       "Name: apartment_number, dtype: int64"
      ]
     },
     "execution_count": 211,
     "metadata": {},
     "output_type": "execute_result"
    }
   ],
   "source": [
    "df['apartment_number'].isnull().value_counts()"
   ]
  },
  {
   "cell_type": "code",
   "execution_count": 212,
   "metadata": {},
   "outputs": [
    {
     "data": {
      "text/plain": [
       "3879"
      ]
     },
     "execution_count": 212,
     "metadata": {},
     "output_type": "execute_result"
    }
   ],
   "source": [
    "df['apartment_number'].dropna().nunique()"
   ]
  },
  {
   "cell_type": "code",
   "execution_count": 213,
   "metadata": {},
   "outputs": [
    {
     "data": {
      "text/plain": [
       "3B    285\n",
       "3A    278\n",
       "4     268\n",
       "2     265\n",
       "2B    262\n",
       "2A    259\n",
       "1     246\n",
       "4B    233\n",
       "4A    232\n",
       "3     226\n",
       "1A    211\n",
       "1B    178\n",
       "5B    165\n",
       "3C    157\n",
       "5A    156\n",
       "2C    147\n",
       "6B    141\n",
       "4C    141\n",
       "6A    136\n",
       "6     126\n",
       "4D    115\n",
       "2D    111\n",
       "5C    110\n",
       "3D    107\n",
       "7A     93\n",
       "3E     92\n",
       "3F     92\n",
       "5      92\n",
       "5D     91\n",
       "6D     89\n",
       "Name: apartment_number, dtype: int64"
      ]
     },
     "execution_count": 213,
     "metadata": {},
     "output_type": "execute_result"
    }
   ],
   "source": [
    "df['apartment_number'].dropna().value_counts().head(30)"
   ]
  },
  {
   "cell_type": "markdown",
   "metadata": {},
   "source": [
    "### zip code"
   ]
  },
  {
   "cell_type": "code",
   "execution_count": 214,
   "metadata": {},
   "outputs": [
    {
     "data": {
      "text/plain": [
       "False    78324\n",
       "True      5197\n",
       "Name: zip_code, dtype: int64"
      ]
     },
     "execution_count": 214,
     "metadata": {},
     "output_type": "execute_result"
    }
   ],
   "source": [
    "df['zip_code'].isnull().value_counts()"
   ]
  },
  {
   "cell_type": "code",
   "execution_count": 215,
   "metadata": {},
   "outputs": [
    {
     "data": {
      "text/plain": [
       "192"
      ]
     },
     "execution_count": 215,
     "metadata": {},
     "output_type": "execute_result"
    }
   ],
   "source": [
    "df['zip_code'].dropna().nunique()"
   ]
  },
  {
   "cell_type": "code",
   "execution_count": 216,
   "metadata": {},
   "outputs": [
    {
     "data": {
      "text/plain": [
       "10314.0    1294\n",
       "10023.0    1248\n",
       "11234.0    1113\n",
       "10312.0    1070\n",
       "10306.0    1065\n",
       "11375.0    1062\n",
       "11235.0    1055\n",
       "10473.0     932\n",
       "10011.0     912\n",
       "11229.0     892\n",
       "10016.0     863\n",
       "11236.0     856\n",
       "11215.0     854\n",
       "11201.0     842\n",
       "10019.0     839\n",
       "10003.0     838\n",
       "11355.0     836\n",
       "10022.0     832\n",
       "11208.0     763\n",
       "11434.0     747\n",
       "11207.0     747\n",
       "10469.0     740\n",
       "11221.0     738\n",
       "11354.0     734\n",
       "10309.0     719\n",
       "11238.0     719\n",
       "11357.0     716\n",
       "11230.0     716\n",
       "10025.0     714\n",
       "11203.0     711\n",
       "Name: zip_code, dtype: int64"
      ]
     },
     "execution_count": 216,
     "metadata": {},
     "output_type": "execute_result"
    }
   ],
   "source": [
    "df['zip_code'].dropna().value_counts().head(30)"
   ]
  },
  {
   "cell_type": "code",
   "execution_count": 246,
   "metadata": {},
   "outputs": [
    {
     "data": {
      "text/plain": [
       "<matplotlib.collections.PathCollection at 0x15ec5f190>"
      ]
     },
     "execution_count": 246,
     "metadata": {},
     "output_type": "execute_result"
    },
    {
     "data": {
      "image/png": "[encoded data removed]",
      "text/plain": [
       "<Figure size 864x576 with 1 Axes>"
      ]
     },
     "metadata": {
      "needs_background": "light"
     },
     "output_type": "display_data"
    }
   ],
   "source": [
    "fig = plt.figure(figsize=(12,8))\n",
    "plt.scatter(x=df['zip_code'],y=df['sale_price'])"
   ]
  },
  {
   "cell_type": "code",
   "execution_count": 245,
   "metadata": {},
   "outputs": [
    {
     "data": {
      "text/plain": [
       "<matplotlib.axes._subplots.AxesSubplot at 0x152f0c160>"
      ]
     },
     "execution_count": 245,
     "metadata": {},
     "output_type": "execute_result"
    },
    {
     "data": {
      "image/png": "[encoded data removed]",
      "text/plain": [
       "<Figure size 432x288 with 1 Axes>"
      ]
     },
     "metadata": {
      "needs_background": "light"
     },
     "output_type": "display_data"
    }
   ],
   "source": [
    "df['zip_code'].hist()"
   ]
  },
  {
   "cell_type": "markdown",
   "metadata": {},
   "source": [
    "### residential units"
   ]
  },
  {
   "cell_type": "code",
   "execution_count": 258,
   "metadata": {},
   "outputs": [
    {
     "data": {
      "text/plain": [
       "152"
      ]
     },
     "execution_count": 258,
     "metadata": {},
     "output_type": "execute_result"
    }
   ],
   "source": [
    "df['residential_units'].dropna().nunique()"
   ]
  },
  {
   "cell_type": "code",
   "execution_count": 256,
   "metadata": {},
   "outputs": [
    {
     "data": {
      "text/plain": [
       "1.0      33155\n",
       "2.0      15383\n",
       "0.0       6048\n",
       "3.0       4384\n",
       "4.0       1126\n",
       "         ...  \n",
       "101.0        1\n",
       "312.0        1\n",
       "179.0        1\n",
       "115.0        1\n",
       "90.0         1\n",
       "Name: residential_units, Length: 152, dtype: int64"
      ]
     },
     "execution_count": 256,
     "metadata": {},
     "output_type": "execute_result"
    }
   ],
   "source": [
    "df['residential_units'].dropna().value_counts()"
   ]
  },
  {
   "cell_type": "code",
   "execution_count": 259,
   "metadata": {},
   "outputs": [
    {
     "data": {
      "text/plain": [
       "826.0"
      ]
     },
     "execution_count": 259,
     "metadata": {},
     "output_type": "execute_result"
    }
   ],
   "source": [
    "df['residential_units'].max()"
   ]
  },
  {
   "cell_type": "code",
   "execution_count": 255,
   "metadata": {},
   "outputs": [
    {
     "data": {
      "text/plain": [
       "<matplotlib.axes._subplots.AxesSubplot at 0x15e7c7370>"
      ]
     },
     "execution_count": 255,
     "metadata": {},
     "output_type": "execute_result"
    },
    {
     "data": {
      "image/png": "[encoded data removed]",
      "text/plain": [
       "<Figure size 864x576 with 1 Axes>"
      ]
     },
     "metadata": {
      "needs_background": "light"
     },
     "output_type": "display_data"
    }
   ],
   "source": [
    "fig = plt.figure(figsize=(12,8))\n",
    "sns.regplot(x='residential_units', y='sale_price',data=df)"
   ]
  },
  {
   "cell_type": "code",
   "execution_count": null,
   "metadata": {},
   "outputs": [],
   "source": []
  }
 ],
 "metadata": {
  "kernelspec": {
   "display_name": "Python 3",
   "language": "python",
   "name": "python3"
  },
  "language_info": {
   "codemirror_mode": {
    "name": "ipython",
    "version": 3
   },
   "file_extension": ".py",
   "mimetype": "text/x-python",
   "name": "python",
   "nbconvert_exporter": "python",
   "pygments_lexer": "ipython3",
   "version": "3.8.3"
  }
 },
 "nbformat": 4,
 "nbformat_minor": 4
}
